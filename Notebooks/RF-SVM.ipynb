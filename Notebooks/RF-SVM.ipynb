{
 "cells": [
  {
   "cell_type": "code",
   "execution_count": 1,
   "id": "c3ce9345",
   "metadata": {},
   "outputs": [
    {
     "ename": "ModuleNotFoundError",
     "evalue": "No module named 'make_train_test_set'",
     "output_type": "error",
     "traceback": [
      "\u001b[0;31m---------------------------------------------------------------------------\u001b[0m",
      "\u001b[0;31mModuleNotFoundError\u001b[0m                       Traceback (most recent call last)",
      "Cell \u001b[0;32mIn[1], line 16\u001b[0m\n\u001b[1;32m     13\u001b[0m \u001b[38;5;28;01mimport\u001b[39;00m \u001b[38;5;21;01msys\u001b[39;00m\n\u001b[1;32m     14\u001b[0m sys\u001b[38;5;241m.\u001b[39mpath\u001b[38;5;241m.\u001b[39mappend(\u001b[38;5;124m\"\u001b[39m\u001b[38;5;124m../scripts/\u001b[39m\u001b[38;5;124m\"\u001b[39m)\n\u001b[0;32m---> 16\u001b[0m \u001b[38;5;28;01mfrom\u001b[39;00m \u001b[38;5;21;01mmake_train_test_set\u001b[39;00m \u001b[38;5;28;01mimport\u001b[39;00m make_train_test_set\n\u001b[1;32m     17\u001b[0m \u001b[38;5;28;01mfrom\u001b[39;00m \u001b[38;5;21;01mimport_data\u001b[39;00m \u001b[38;5;28;01mimport\u001b[39;00m import_data\n\u001b[1;32m     18\u001b[0m \u001b[38;5;28;01mfrom\u001b[39;00m \u001b[38;5;21;01mmetrics\u001b[39;00m \u001b[38;5;28;01mimport\u001b[39;00m metrics \n",
      "\u001b[0;31mModuleNotFoundError\u001b[0m: No module named 'make_train_test_set'"
     ]
    }
   ],
   "source": [
    "from sklearn.ensemble import RandomForestRegressor\n",
    "from sklearn.svm import SVR\n",
    "\n",
    "import numpy as np\n",
    "import pandas as pd\n",
    "\n",
    "import matplotlib.pyplot as plt\n",
    "\n",
    "from datetime import (\n",
    "    datetime as DateTime, \n",
    "    timedelta as TimeDelta)\n",
    "\n",
    "import sys\n",
    "sys.path.append(\"../scripts/\")\n",
    "\n",
    "from make_train_test_set import make_train_test_set\n",
    "from import_data import import_data\n",
    "from metrics import metrics \n",
    "from group_by_clients import group_by_clients"
   ]
  },
  {
   "cell_type": "markdown",
   "id": "a9fd6ebd",
   "metadata": {},
   "source": [
    "# Random Forest sur les données brutes"
   ]
  },
  {
   "cell_type": "code",
   "execution_count": null,
   "id": "9cc4ab65",
   "metadata": {},
   "outputs": [],
   "source": [
    "df_global = import_data()\n",
    "clients = group_by_clients(df_global)\n",
    "n = len(clients)"
   ]
  },
  {
   "cell_type": "code",
   "execution_count": null,
   "id": "961ad7aa",
   "metadata": {},
   "outputs": [],
   "source": [
    "# Préparation des données de train / test\n",
    "X_train, X_test, y_train, y_test, test_data = make_train_test_set(clients, [\"jour\", \"forecasted_consumption\"], [\"real_consumption\"])"
   ]
  },
  {
   "cell_type": "code",
   "execution_count": null,
   "id": "82fde538",
   "metadata": {},
   "outputs": [],
   "source": [
    "# création des modèles\n",
    "\n",
    "rfs = [RandomForestRegressor() for _ in range(n)]\n",
    "\n",
    "for i, rf in enumerate(rfs) : \n",
    "    rf.fit(X_train[i], np.array(y_train[i]).ravel())"
   ]
  },
  {
   "cell_type": "code",
   "execution_count": null,
   "id": "c3e975f1",
   "metadata": {},
   "outputs": [],
   "source": [
    "y_pred = []\n",
    "for i, rf in enumerate(rfs): \n",
    "    y_pred.append(rf.predict(X_test[i]))"
   ]
  },
  {
   "cell_type": "markdown",
   "id": "6a6b47b2",
   "metadata": {},
   "source": [
    "### Evaluation du random forest"
   ]
  },
  {
   "cell_type": "code",
   "execution_count": null,
   "id": "a728285a",
   "metadata": {},
   "outputs": [],
   "source": [
    "evaluation_model = []\n",
    "evalutation_airliquide_model = []\n",
    "for i in range(n): \n",
    "    evaluation_model.append(metrics(test_data[i][\"real_consumption\"], y_pred[i]))\n",
    "    evalutation_airliquide_model.append(metrics(test_data[i][\"real_consumption\"], test_data[i][\"prediction\"]))"
   ]
  },
  {
   "cell_type": "code",
   "execution_count": null,
   "id": "533495d2",
   "metadata": {},
   "outputs": [],
   "source": [
    "X = list(range(1,n+1))\n",
    "fig, ax = plt.subplots(3)\n",
    "ax[0].set_title(\"R2\")\n",
    "ax[1].set_title(\"MSE\")\n",
    "ax[2].set_title(\"MAE\")\n",
    "for i in range(3): \n",
    "    ax[i].plot(X, [x[i] for x in evaluation_model], label = \"model\")\n",
    "    ax[i].plot(X, [x[i] for x in evalutation_airliquide_model], label = \"airliquide\")\n",
    "    ax[i].legend()"
   ]
  },
  {
   "cell_type": "markdown",
   "id": "e8232fef",
   "metadata": {},
   "source": [
    "# Random Forest avec les données du gaz naturel"
   ]
  },
  {
   "cell_type": "code",
   "execution_count": null,
   "id": "3d8ac80d",
   "metadata": {},
   "outputs": [],
   "source": [
    "gas = pd.read_csv(\"../data/gas.csv\")\n",
    "gas[\"horodate\"] = pd.to_datetime(gas[\"horodate\"])\n",
    "gas[\"horodate\"] = gas[\"horodate\"] + pd.Timedelta(days = 14)\n",
    "gas = gas[(gas[\"horodate\"] <= pd.to_datetime(\"2023-01-31\")) & (gas[\"horodate\"] >= pd.to_datetime(\"2021-01-01\"))]"
   ]
  },
  {
   "cell_type": "code",
   "execution_count": null,
   "id": "172ba4e7",
   "metadata": {},
   "outputs": [],
   "source": [
    "df_gas = df_global.copy()\n",
    "df_gas = pd.merge(df_gas, gas, on = [\"horodate\"], how = \"left\").sort_values([\"id_client\", \"horodate\"]).dropna().reset_index().drop(\"index\", axis = 1)"
   ]
  },
  {
   "cell_type": "code",
   "execution_count": null,
   "id": "a4f9fa9b",
   "metadata": {},
   "outputs": [],
   "source": [
    "# on sépare à nouveau en client \n",
    "clients_gas = group_by_clients(df_gas)"
   ]
  },
  {
   "cell_type": "code",
   "execution_count": null,
   "id": "77e28a9f",
   "metadata": {},
   "outputs": [],
   "source": [
    "X_train_gas, X_test_gas, y_train_gas, y_test_gas, test_data_gas = make_train_test_set(clients_gas, [\"jour\", \"forecasted_consumption\", \"Gas Price\"], [\"real_consumption\"])"
   ]
  },
  {
   "cell_type": "code",
   "execution_count": null,
   "id": "622b3490",
   "metadata": {},
   "outputs": [],
   "source": [
    "# création des modèles : \n",
    "models_gas = [RandomForestRegressor() for _ in range(n)]\n",
    "for i, model in enumerate(models_gas): \n",
    "    model.fit(X_train_gas[i], np.array(y_train_gas[i]).ravel())"
   ]
  },
  {
   "cell_type": "code",
   "execution_count": null,
   "id": "65d10327",
   "metadata": {},
   "outputs": [],
   "source": [
    "y_pred_gas = []\n",
    "for i, model in enumerate(models_gas) : \n",
    "    y_pred_gas.append(model.predict(X_test_gas[i]).reshape(len(X_test_gas[i])))"
   ]
  },
  {
   "cell_type": "code",
   "execution_count": null,
   "id": "3baf24df",
   "metadata": {},
   "outputs": [],
   "source": [
    "evaluation_model_gas = []\n",
    "for i in range(n): \n",
    "    evaluation_model_gas.append(metrics(test_data_gas[i][\"real_consumption\"], y_pred_gas[i]))"
   ]
  },
  {
   "cell_type": "code",
   "execution_count": null,
   "id": "2a6abc01",
   "metadata": {},
   "outputs": [],
   "source": [
    "X = list(range(1,n+1))\n",
    "fig, ax = plt.subplots(3)\n",
    "ax[0].set_title(\"R2\")\n",
    "ax[1].set_title(\"MSE\")\n",
    "ax[2].set_title(\"MAE\")\n",
    "for i in range(3): \n",
    "    ax[i].plot(X, [x[i] for x in evaluation_model_gas], label = \"model-gas\")\n",
    "    ax[i].plot(X, [x[i] for x in evaluation_model], label = \"model-Brut\")\n",
    "    ax[i].plot(X, [x[i] for x in evalutation_airliquide_model], label = \"airliquide\")\n",
    "    ax[i].legend()"
   ]
  },
  {
   "cell_type": "markdown",
   "id": "143fe914",
   "metadata": {},
   "source": [
    "# SVM sur les données brutes"
   ]
  },
  {
   "cell_type": "code",
   "execution_count": null,
   "id": "1d255d9a",
   "metadata": {},
   "outputs": [],
   "source": [
    "df_global = import_data()\n",
    "clients = group_by_clients(df_global)\n",
    "n = len(clients)"
   ]
  },
  {
   "cell_type": "code",
   "execution_count": null,
   "id": "01463158",
   "metadata": {},
   "outputs": [],
   "source": [
    "# Préparation des données de train / test\n",
    "X_train, X_test, y_train, y_test, test_data = make_train_test_set(clients, [\"jour\", \"forecasted_consumption\"], [\"real_consumption\"])"
   ]
  },
  {
   "cell_type": "code",
   "execution_count": null,
   "id": "d86eb999",
   "metadata": {},
   "outputs": [],
   "source": [
    "# création des modèles\n",
    "models = [SVR(kernel='linear', C = 0.1, epsilon = 0.5) for _ in range(n)]\n",
    "for i, model in enumerate(models): \n",
    "    model.fit(X_train[i], np.array(y_train[i]).ravel())\n",
    "    print(\"done\")"
   ]
  },
  {
   "cell_type": "code",
   "execution_count": null,
   "id": "7f795db4",
   "metadata": {},
   "outputs": [],
   "source": [
    "y_pred = []\n",
    "for i, model in enumerate(models): \n",
    "    y_pred.append(model.predict(X_test[i]))"
   ]
  },
  {
   "cell_type": "code",
   "execution_count": null,
   "id": "0c5d95f0",
   "metadata": {},
   "outputs": [],
   "source": [
    "mod = SVR(kernel = \"linear\")"
   ]
  },
  {
   "cell_type": "code",
   "execution_count": null,
   "id": "b4ce2ce0",
   "metadata": {},
   "outputs": [],
   "source": [
    "mod.fit(X_train[0], np.array(y_train[0]).ravel())"
   ]
  },
  {
   "cell_type": "code",
   "execution_count": null,
   "id": "3a1422b2",
   "metadata": {},
   "outputs": [],
   "source": [
    "mod.predict(X_test[0])"
   ]
  },
  {
   "cell_type": "code",
   "execution_count": null,
   "id": "2f3eb40d",
   "metadata": {},
   "outputs": [],
   "source": []
  }
 ],
 "metadata": {
  "kernelspec": {
   "display_name": "Python 3 (ipykernel)",
   "language": "python",
   "name": "python3"
  },
  "language_info": {
   "codemirror_mode": {
    "name": "ipython",
    "version": 3
   },
   "file_extension": ".py",
   "mimetype": "text/x-python",
   "name": "python",
   "nbconvert_exporter": "python",
   "pygments_lexer": "ipython3",
   "version": "3.11.3"
  }
 },
 "nbformat": 4,
 "nbformat_minor": 5
}
