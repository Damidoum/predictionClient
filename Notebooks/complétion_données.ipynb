{
 "cells": [
  {
   "cell_type": "code",
   "execution_count": 1,
   "id": "3a0bf2f3",
   "metadata": {},
   "outputs": [],
   "source": [
    "import pandas as pd\n",
    "import numpy as np \n",
    "import matplotlib.pyplot as plt\n",
    "from sklearn.linear_model import LinearRegression\n",
    "\n",
    "import sys\n",
    "sys.path.append(\"../scripts/\")\n",
    "\n",
    "# librairies perso\n",
    "from make_train_test_set import make_train_test_set\n",
    "from import_data import import_data\n",
    "from metrics import metrics \n",
    "from group_by_clients import group_by_clients\n",
    "from model import creation_model\n",
    "from model_by_client import creation_model_by_client"
   ]
  },
  {
   "cell_type": "markdown",
   "id": "c240689a",
   "metadata": {},
   "source": [
    "# Dataframe"
   ]
  },
  {
   "cell_type": "code",
   "execution_count": 2,
   "id": "3a76c291",
   "metadata": {},
   "outputs": [],
   "source": [
    "data = import_data()"
   ]
  },
  {
   "cell_type": "code",
   "execution_count": 3,
   "id": "17021621",
   "metadata": {},
   "outputs": [],
   "source": [
    "def set_up_index(index): \n",
    "    index.rename({\"Date\": \"horodate\"}, axis = 1, inplace = True)\n",
    "    index[\"horodate\"] = pd.to_datetime(index[\"horodate\"])\n",
    "    index.set_index(\"horodate\", inplace = True)\n",
    "    index = index.asfreq(\"D\")\n",
    "    index.reset_index(inplace = True)\n",
    "    index = index.fillna(method = \"ffill\")\n",
    "    date = (index[\"horodate\"] >= pd.to_datetime(\"2021-01-01\")) & (index[\"horodate\"] <= pd.to_datetime(\"2023-01-31\"))\n",
    "    index = index[date]\n",
    "    index.reset_index(inplace = True)\n",
    "    index = index[[\"horodate\", \"Open\"]]\n",
    "    return index "
   ]
  },
  {
   "cell_type": "code",
   "execution_count": 4,
   "id": "e4004637",
   "metadata": {},
   "outputs": [],
   "source": [
    "CAC = pd.read_csv(\"../data/^FCHI.csv\")\n",
    "AEX = pd.read_csv(\"../data/^AEX.csv\")\n",
    "BFX = pd.read_csv(\"../data/^BFX.csv\")\n",
    "STOXX = pd.read_csv(\"../data/^STOXX50E.csv\")\n",
    "Airliquide = pd.read_csv(\"../data/AI.PA.csv\")\n",
    "gasNat = pd.read_csv(\"../data/EEX.csv\").rename({\"Ouvert\": \"Open\"}, axis = 1)\n",
    "\n",
    "CAC = set_up_index(CAC)\n",
    "AEX = set_up_index(AEX)\n",
    "BFX = set_up_index(BFX)\n",
    "STOXX = set_up_index(STOXX)\n",
    "Airliquide = set_up_index(Airliquide)\n",
    "gasNat = set_up_index(gasNat)\n",
    "\n",
    "CAC.rename({\"Open\": \"CAC\"}, axis = 1, inplace = True)\n",
    "AEX.rename({\"Open\": \"AEX\"}, axis = 1, inplace = True)\n",
    "BFX.rename({\"Open\": \"BFX\"}, axis = 1, inplace = True)\n",
    "STOXX.rename({\"Open\": \"STOXX\"}, axis = 1, inplace = True)\n",
    "Airliquide.rename({\"Open\": \"Airliquide\"}, axis = 1, inplace = True)\n",
    "gasNat.rename({\"Open\": \"gasNat\"}, axis = 1, inplace = True)\n",
    "\n",
    "#CAC.rename({\"Volume\": \"CAC\"}, axis = 1, inplace = True)\n",
    "#AEX.rename({\"Volume\": \"AEX\"}, axis = 1, inplace = True)\n",
    "#BFX.rename({\"Volume\": \"BFX\"}, axis = 1, inplace = True)\n",
    "#STOXX.rename({\"Volume\": \"STOXX\"}, axis = 1, inplace = True)"
   ]
  },
  {
   "cell_type": "code",
   "execution_count": 5,
   "id": "ea110cc5",
   "metadata": {},
   "outputs": [],
   "source": [
    "# il faut merge avec le tableau principal\n",
    "data = pd.merge(data, CAC, on = [\"horodate\"], how = \"left\")\n",
    "data = pd.merge(data, AEX, on = [\"horodate\"], how = \"left\")\n",
    "data = pd.merge(data, BFX, on = [\"horodate\"], how = \"left\")\n",
    "data = pd.merge(data, STOXX, on = [\"horodate\"], how = \"left\")\n",
    "data = pd.merge(data, Airliquide, on = [\"horodate\"], how = \"left\")\n",
    "data = pd.merge(data, gasNat, on = [\"horodate\"], how = \"left\")\n",
    "n = data[\"id_client\"].max()\n",
    "test_data = data[data[\"horodate\"] > pd.to_datetime(\"2022-08-31\")]"
   ]
  },
  {
   "cell_type": "markdown",
   "id": "2fdbc78a",
   "metadata": {},
   "source": [
    "# Régression"
   ]
  },
  {
   "cell_type": "markdown",
   "id": "50dea174",
   "metadata": {},
   "source": [
    "### Avec le CAC seulement"
   ]
  },
  {
   "cell_type": "code",
   "execution_count": 6,
   "id": "c78b62ce",
   "metadata": {},
   "outputs": [
    {
     "ename": "TypeError",
     "evalue": "creation_model() missing 1 required positional argument: 'lim_date'",
     "output_type": "error",
     "traceback": [
      "\u001b[0;31m---------------------------------------------------------------------------\u001b[0m",
      "\u001b[0;31mTypeError\u001b[0m                                 Traceback (most recent call last)",
      "Cell \u001b[0;32mIn[6], line 1\u001b[0m\n\u001b[0;32m----> 1\u001b[0m eval_model_CAC \u001b[38;5;241m=\u001b[39m \u001b[43mcreation_model\u001b[49m\u001b[43m(\u001b[49m\u001b[43mdata\u001b[49m\u001b[43m,\u001b[49m\u001b[43m \u001b[49m\u001b[43m[\u001b[49m\u001b[38;5;124;43m\"\u001b[39;49m\u001b[38;5;124;43mid_client\u001b[39;49m\u001b[38;5;124;43m\"\u001b[39;49m\u001b[43m,\u001b[49m\u001b[43m \u001b[49m\u001b[38;5;124;43m\"\u001b[39;49m\u001b[38;5;124;43mforecasted_consumption\u001b[39;49m\u001b[38;5;124;43m\"\u001b[39;49m\u001b[43m,\u001b[49m\u001b[43m \u001b[49m\u001b[38;5;124;43m\"\u001b[39;49m\u001b[38;5;124;43mCAC\u001b[39;49m\u001b[38;5;124;43m\"\u001b[39;49m\u001b[43m]\u001b[49m\u001b[43m,\u001b[49m\u001b[43m \u001b[49m\u001b[43m[\u001b[49m\u001b[38;5;124;43m\"\u001b[39;49m\u001b[38;5;124;43mreal_consumption\u001b[39;49m\u001b[38;5;124;43m\"\u001b[39;49m\u001b[43m]\u001b[49m\u001b[43m)\u001b[49m\n",
      "\u001b[0;31mTypeError\u001b[0m: creation_model() missing 1 required positional argument: 'lim_date'"
     ]
    }
   ],
   "source": [
    "eval_model_CAC = creation_model(data, [\"id_client\", \"forecasted_consumption\", \"CAC\"], [\"real_consumption\"])"
   ]
  },
  {
   "cell_type": "markdown",
   "id": "d3cf708e",
   "metadata": {},
   "source": [
    "### Avec le CAC et STOXX "
   ]
  },
  {
   "cell_type": "code",
   "execution_count": null,
   "id": "2b95b2d2",
   "metadata": {
    "scrolled": false
   },
   "outputs": [],
   "source": [
    "eval_model_CAC_STOXX = creation_model(data, [\"id_client\", \"forecasted_consumption\", \"CAC\", \"STOXX\"], [\"real_consumption\"])"
   ]
  },
  {
   "cell_type": "markdown",
   "id": "2299b4a2",
   "metadata": {},
   "source": [
    "### Avec le CAC, STOXX et Airliquide"
   ]
  },
  {
   "cell_type": "code",
   "execution_count": null,
   "id": "c375d5b9",
   "metadata": {},
   "outputs": [],
   "source": [
    "eval_model_CAC_STOXX_Airliquide = creation_model(data, [\"id_client\", \"forecasted_consumption\", \"CAC\", \"STOXX\", \"Airliquide\"], [\"real_consumption\"])"
   ]
  },
  {
   "cell_type": "markdown",
   "id": "ad9747c5",
   "metadata": {},
   "source": [
    "### Tous les paramètres "
   ]
  },
  {
   "cell_type": "code",
   "execution_count": null,
   "id": "f2676942",
   "metadata": {},
   "outputs": [],
   "source": [
    "eval_model_all = creation_model(data, [\"id_client\", \"forecasted_consumption\", \"CAC\", \"STOXX\", \"BFX\", \"AEX\", \"Airliquide\"], [\"real_consumption\"])"
   ]
  },
  {
   "cell_type": "markdown",
   "id": "946ffab5",
   "metadata": {},
   "source": [
    "### Gas nat"
   ]
  },
  {
   "cell_type": "code",
   "execution_count": null,
   "id": "2e7866e0",
   "metadata": {},
   "outputs": [],
   "source": [
    "eval_model_gasNat = creation_model(data, [\"id_client\", \"forecasted_consumption\", \"gasNat\"], [\"real_consumption\"])"
   ]
  },
  {
   "cell_type": "markdown",
   "id": "53b35cb7",
   "metadata": {},
   "source": [
    "# Evaluation"
   ]
  },
  {
   "cell_type": "code",
   "execution_count": null,
   "id": "51b77483",
   "metadata": {},
   "outputs": [],
   "source": [
    "X = list(range(1,n+1))\n",
    "X2 = list(range(1,n+1))\n",
    "X2.remove(28)\n",
    "X2.remove(27)\n",
    "evalutation_airliquide_model = []\n",
    "for i in range(n): \n",
    "    evalutation_airliquide_model.append(metrics(test_data.groupby(\"id_client\").get_group(i+1)[\"real_consumption\"], test_data.groupby(\"id_client\").get_group(i+1)[\"prediction\"]))\n",
    "\n",
    "fig, ax = plt.subplots(3, figsize = (10,10))\n",
    "ax[0].set_title(\"R2\")\n",
    "ax[1].set_title(\"MSE\")\n",
    "ax[2].set_title(\"MAE\")\n",
    "for i in range(3): \n",
    "    ax[i].plot(X2, [x[i] for j, x in enumerate(eval_model_CAC) if j not in [27, 28]], label = \"CAC\", alpha = 0.5)\n",
    "    ax[i].plot(X2, [x[i] for j, x in enumerate(eval_model_CAC_STOXX) if j not in [27, 28]], label = \"CAC + STOXX\", alpha = 0.5)\n",
    "    ax[i].plot(X2, [x[i] for j, x in enumerate(eval_model_all) if j not in [27, 28]], label = \"All\", alpha = 0.5)\n",
    "    ax[i].plot(X2, [x[i] for j, x in enumerate(eval_model_CAC_STOXX_Airliquide) if j not in [27, 28]], label = \"CAC + STOXX + Airliquide\", alpha = 0.5)\n",
    "    ax[i].plot(X2, [x[i] for j, x in enumerate(eval_model_CAC_STOXX_Airliquide) if j not in [27, 28]], label = \"\", alpha = 0.5)\n",
    "    ax[i].plot(X2, [x[i] for j, x in enumerate(eval_model_gasNat) if j not in [27, 28]], label = \"gasNat\", alpha = 0.5)\n",
    "    #ax[i].plot(X, [x[i] for x in evalutation_airliquide_model], label = \"airliquide\")\n",
    "    ax[i].legend()"
   ]
  },
  {
   "cell_type": "code",
   "execution_count": null,
   "id": "cedf248c",
   "metadata": {},
   "outputs": [],
   "source": [
    "attributes = [\"real_consumption\",\"CAC\", \"gasNat\", \"forecasted_consumption\"]\n",
    "axes = pd.plotting.scatter_matrix(data[attributes], figsize=(12, 8))\n",
    "\n",
    "# Masquer les sous-parcelles sauf la première ligne\n",
    "for i, row in enumerate(axes):\n",
    "    if i == 0 : \n",
    "        for j, subplot in enumerate(row) : \n",
    "            subplot.set_xlabel(attributes[j])\n",
    "    else :\n",
    "        for subplot in row : \n",
    "            subplot.set_visible(False)\n",
    "\n",
    "# Afficher la matrice de dispersion\n",
    "plt.show()"
   ]
  },
  {
   "cell_type": "markdown",
   "id": "95cc6824",
   "metadata": {},
   "source": [
    "# Essai sur un jeu de donné plus clean"
   ]
  },
  {
   "cell_type": "code",
   "execution_count": null,
   "id": "f0ad306d",
   "metadata": {},
   "outputs": [],
   "source": [
    "clients = data.groupby(\"id_client\")"
   ]
  },
  {
   "cell_type": "code",
   "execution_count": null,
   "id": "1027359b",
   "metadata": {},
   "outputs": [],
   "source": [
    "egal0 = []\n",
    "for i in range(1,50):\n",
    "    egal0.append((clients.get_group(i)[\"real_consumption\"] == 0).sum())"
   ]
  },
  {
   "cell_type": "code",
   "execution_count": null,
   "id": "c2a1decb",
   "metadata": {},
   "outputs": [],
   "source": [
    "plt.plot(list(range(1,50)), egal0)"
   ]
  },
  {
   "cell_type": "code",
   "execution_count": null,
   "id": "b297d282",
   "metadata": {},
   "outputs": [],
   "source": [
    "(clients.get_group(8)[\"real_consumption\"] == 0).sum()"
   ]
  },
  {
   "cell_type": "markdown",
   "id": "c24a78ad",
   "metadata": {},
   "source": [
    "A virer : 38, 49, 28, 17, 23, 9, 8"
   ]
  },
  {
   "cell_type": "code",
   "execution_count": null,
   "id": "5555608a",
   "metadata": {},
   "outputs": [],
   "source": [
    "data = data[~(data[\"id_client\"].isin([8,9, 17, 23, 28, 38 , 49]))]"
   ]
  },
  {
   "cell_type": "code",
   "execution_count": null,
   "id": "3127173e",
   "metadata": {},
   "outputs": [],
   "source": [
    "import pandas as pd\n",
    "from sklearn.linear_model import LinearRegression\n",
    "from metrics import metrics\n",
    "\n",
    "\n",
    "def creation_model(df, xarg, yarg):\n",
    "    n = df[\"id_client\"].max()\n",
    "    # train_size = int(len(df.groupby(\"id_client\").get_group(1)) * 0.8)\n",
    "    # date_lim = df.groupby(\"id_client\").get_group(1)[\"horodate\"][:train_size].iloc[-1]\n",
    "    train = df[df[\"horodate\"] <= pd.to_datetime(\"2022-08-31\")]\n",
    "    test = df[df[\"horodate\"] > pd.to_datetime(\"2022-08-31\")]\n",
    "    X_train = train.copy()[xarg]\n",
    "    Y_train = train.copy()[yarg]\n",
    "    X_test = test.copy()[xarg]\n",
    "    Y_test = test.copy()[yarg]\n",
    "\n",
    "    # création du model\n",
    "    model = LinearRegression()\n",
    "    model.fit(X_train, Y_train)\n",
    "    y_pred = model.predict(X_test)\n",
    "\n",
    "    comp = pd.DataFrame(Y_test.copy())\n",
    "    comp[\"pred\"] = y_pred\n",
    "    comp[\"id_client\"] = X_test[\"id_client\"]\n",
    "    evaluation_model = []\n",
    "\n",
    "    evaluation_model = []\n",
    "    for i in df[\"id_client\"].unique():\n",
    "        y = comp.groupby(\"id_client\").get_group(i)[\"pred\"]\n",
    "        y2 = comp.groupby(\"id_client\").get_group(i)[\"real_consumption\"]\n",
    "        evaluation_model.append(metrics(y2, y))\n",
    "    return evaluation_model\n"
   ]
  },
  {
   "cell_type": "code",
   "execution_count": null,
   "id": "5928d3bc",
   "metadata": {},
   "outputs": [],
   "source": [
    "eval_model_CAC = creation_model(data, [\"id_client\", \"forecasted_consumption\", \"CAC\"], [\"real_consumption\"])"
   ]
  },
  {
   "cell_type": "code",
   "execution_count": null,
   "id": "a32e2404",
   "metadata": {},
   "outputs": [],
   "source": [
    "eval_model_CAC_STOXX = creation_model(data, [\"id_client\", \"forecasted_consumption\", \"CAC\", \"STOXX\"], [\"real_consumption\"])"
   ]
  },
  {
   "cell_type": "code",
   "execution_count": null,
   "id": "58bb6b2f",
   "metadata": {},
   "outputs": [],
   "source": [
    "eval_model_CAC_STOXX_Airliquide = creation_model(data, [\"id_client\", \"forecasted_consumption\", \"CAC\", \"STOXX\", \"Airliquide\"], [\"real_consumption\"])"
   ]
  },
  {
   "cell_type": "code",
   "execution_count": null,
   "id": "0a97c29f",
   "metadata": {},
   "outputs": [],
   "source": [
    "eval_model_all = creation_model(data, [\"id_client\", \"forecasted_consumption\", \"CAC\", \"STOXX\", \"BFX\", \"AEX\", \"Airliquide\"], [\"real_consumption\"])"
   ]
  },
  {
   "cell_type": "code",
   "execution_count": null,
   "id": "751515cb",
   "metadata": {},
   "outputs": [],
   "source": [
    "eval_model_gasNat = creation_model(data, [\"id_client\", \"forecasted_consumption\", \"gasNat\"], [\"real_consumption\"])"
   ]
  },
  {
   "cell_type": "code",
   "execution_count": null,
   "id": "207d8e0d",
   "metadata": {
    "scrolled": false
   },
   "outputs": [],
   "source": [
    "n = len(data[\"id_client\"].unique())\n",
    "test_data = data[data[\"horodate\"] > pd.to_datetime(\"2022-08-31\")]\n",
    "\n",
    "X = list(range(1,n+1))\n",
    "\n",
    "evalutation_airliquide_model = []\n",
    "for i in data[\"id_client\"].unique(): \n",
    "    evalutation_airliquide_model.append(metrics(test_data.groupby(\"id_client\").get_group(i)[\"real_consumption\"], test_data.groupby(\"id_client\").get_group(i)[\"prediction\"]))\n",
    "\n",
    "fig, ax = plt.subplots(3, figsize = (10,10))\n",
    "ax[0].set_title(\"R2\")\n",
    "ax[1].set_title(\"MSE\")\n",
    "ax[2].set_title(\"MAE\")\n",
    "for i in range(3): \n",
    "    ax[i].plot(X, [x[i] for j, x in enumerate(eval_model_CAC)], label = \"CAC\", alpha = 0.5)\n",
    "    ax[i].plot(X, [x[i] for j, x in enumerate(eval_model_CAC_STOXX) ], label = \"CAC + STOXX\", alpha = 0.5)\n",
    "    ax[i].plot(X, [x[i] for j, x in enumerate(eval_model_all) ], label = \"All\", alpha = 0.5)\n",
    "    ax[i].plot(X, [x[i] for j, x in enumerate(eval_model_CAC_STOXX_Airliquide)], label = \"CAC + STOXX + Airliquide\", alpha = 0.5)\n",
    "    ax[i].plot(X, [x[i] for j, x in enumerate(eval_model_CAC_STOXX_Airliquide)], label = \"\", alpha = 0.5)\n",
    "    ax[i].plot(X, [x[i] for j, x in enumerate(eval_model_gasNat) ], label = \"gasNat\", alpha = 0.5)\n",
    "    #ax[i].plot(X, [x[i] for x in evalutation_airliquide_model], label = \"airliquide\")\n",
    "    ax[i].legend()"
   ]
  },
  {
   "cell_type": "code",
   "execution_count": null,
   "id": "419de5db",
   "metadata": {},
   "outputs": [],
   "source": [
    "r2 = lambda lst : sum([x[0] for x in lst])\n",
    "MSE = lambda lst : sum([x[1] for x in lst])\n",
    "MAE = lambda lst : sum([x[2] for x in lst])"
   ]
  },
  {
   "cell_type": "code",
   "execution_count": null,
   "id": "d991b137",
   "metadata": {},
   "outputs": [],
   "source": [
    "eval = {\"CAC\": {\"MSE\": MSE(eval_model_CAC), \"MAE\": MAE(eval_model_CAC)}, \"CAC + STOXX\": {\"MSE\": MSE(eval_model_CAC_STOXX), \"MAE\": MAE(eval_model_CAC_STOXX)}, \n",
    "       \"All\": {\"MSE\": MSE(eval_model_all), \"MAE\": MAE(eval_model_all)}, \"gasNat\": {\"MSE\": MSE(eval_model_gasNat), \"MAE\": MAE(eval_model_gasNat)}}"
   ]
  },
  {
   "cell_type": "code",
   "execution_count": null,
   "id": "f13a9259",
   "metadata": {},
   "outputs": [],
   "source": [
    "pd.DataFrame(eval)"
   ]
  },
  {
   "cell_type": "markdown",
   "id": "ca1e2a92",
   "metadata": {},
   "source": [
    "seul le STOXX améliore le modèle. "
   ]
  },
  {
   "cell_type": "code",
   "execution_count": null,
   "id": "19d21d19",
   "metadata": {},
   "outputs": [],
   "source": []
  }
 ],
 "metadata": {
  "kernelspec": {
   "display_name": "Python 3 (ipykernel)",
   "language": "python",
   "name": "python3"
  },
  "language_info": {
   "codemirror_mode": {
    "name": "ipython",
    "version": 3
   },
   "file_extension": ".py",
   "mimetype": "text/x-python",
   "name": "python",
   "nbconvert_exporter": "python",
   "pygments_lexer": "ipython3",
   "version": "3.11.3"
  }
 },
 "nbformat": 4,
 "nbformat_minor": 5
}
