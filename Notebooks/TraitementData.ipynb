{
 "cells": [
  {
   "cell_type": "code",
   "execution_count": 18,
   "id": "5ec48ba5",
   "metadata": {},
   "outputs": [],
   "source": [
    "#import des librairies\n",
    "import os\n",
    "import pandas as pd\n",
    "import numpy as np \n",
    "import matplotlib.pyplot as plt\n",
    "from sklearn.linear_model import LinearRegression, Lasso, Ridge\n",
    "from sklearn.ensemble import RandomForestRegressor, GradientBoostingRegressor\n",
    "import seaborn as sns\n",
    "from sklearn.model_selection import train_test_split\n",
    "from sklearn.preprocessing import MinMaxScaler\n",
    "from sklearn.metrics import mean_absolute_error, mean_squared_error, r2_score, make_scorer\n",
    "from sklearn.model_selection import GridSearchCV\n",
    "from sklearn.model_selection import cross_val_score\n",
    "from sklearn.svm import SVR\n",
    "from joblib import dump\n",
    "\n",
    "import sys\n",
    "sys.path.append(\"../scripts/\")\n",
    "\n",
    "# librairies perso\n",
    "from import_data import import_data, import_data_complete\n",
    "from metrics import metrics, tab_mesure \n",
    "from group_by_clients import group_by_clients\n",
    "from creation_model import complet_process\n",
    "from display import display_mesure\n",
    "from metrics import export_mesure, permutation_feature_importance"
   ]
  },
  {
   "cell_type": "code",
   "execution_count": 19,
   "id": "32c4fb0a",
   "metadata": {},
   "outputs": [],
   "source": [
    "data = import_data_complete(path = \"../\")"
   ]
  },
  {
   "cell_type": "code",
   "execution_count": 20,
   "id": "64b05a7e",
   "metadata": {},
   "outputs": [],
   "source": [
    "clients = data[\"id_client\"].unique()"
   ]
  },
  {
   "cell_type": "code",
   "execution_count": 21,
   "id": "65b0b9e7",
   "metadata": {},
   "outputs": [],
   "source": [
    "MSE = pd.DataFrame(pd.read_csv(f\"../output/client_1/results.csv\")[\"MSE\"]).T\n",
    "MAE = pd.DataFrame(pd.read_csv(f\"../output/client_1/results.csv\")[\"MAE\"]).T\n",
    "R2 = pd.DataFrame(pd.read_csv(f\"../output/client_1/results.csv\")[\"R2\"]).T\n",
    "for i in clients: \n",
    "    df_mse = pd.DataFrame(pd.read_csv(f\"../output/client_{i}/results.csv\")[\"MSE\"])\n",
    "    df_mae = pd.DataFrame(pd.read_csv(f\"../output/client_{i}/results.csv\")[\"MAE\"])\n",
    "    df_r2 = pd.DataFrame(pd.read_csv(f\"../output/client_{i}/results.csv\")[\"R2\"])\n",
    "    MSE = pd.concat([MSE, df_mse.T])\n",
    "    MAE = pd.concat([MAE, df_mae.T])\n",
    "    R2 = pd.concat([R2, df_r2.T])\n",
    "MSE = MSE.iloc[1:,:].reset_index().drop(\"index\", axis = 1)\n",
    "MAE = MAE.iloc[1:,:].reset_index().drop(\"index\", axis = 1)\n",
    "R2 = R2.iloc[1:,:].reset_index().drop(\"index\", axis = 1)\n",
    "MSE[\"id_client\"] = clients\n",
    "MAE[\"id_client\"] = clients\n",
    "R2[\"id_client\"] = clients\n",
    "MSE = MSE.set_index(\"id_client\").rename({0: \"y0\",1: \"y1\",2: \"y2\",3: \"y3\",4: \"y4\",5: \"y5\",6: \"y6\", 7: \"y7\"}, axis = 1)\n",
    "MAE = MAE.set_index(\"id_client\").rename({0: \"y0\",1: \"y1\",2: \"y2\",3: \"y3\",4: \"y4\",5: \"y5\",6: \"y6\", 7: \"y7\"}, axis = 1)\n",
    "R2 = R2.set_index(\"id_client\").rename({0: \"y0\",1: \"y1\",2: \"y2\",3: \"y3\",4: \"y4\",5: \"y5\",6: \"y6\", 7: \"y7\"}, axis = 1)"
   ]
  },
  {
   "cell_type": "code",
   "execution_count": 22,
   "id": "bffe42eb",
   "metadata": {},
   "outputs": [],
   "source": [
    "MSE.to_csv(\"../output/global_results/mse.csv\")\n",
    "MAE.to_csv(\"../output/global_results/mae.csv\")\n",
    "R2.to_csv(\"../output/global_results/r2.csv\")"
   ]
  }
 ],
 "metadata": {
  "kernelspec": {
   "display_name": "Python 3 (ipykernel)",
   "language": "python",
   "name": "python3"
  },
  "language_info": {
   "codemirror_mode": {
    "name": "ipython",
    "version": 3
   },
   "file_extension": ".py",
   "mimetype": "text/x-python",
   "name": "python",
   "nbconvert_exporter": "python",
   "pygments_lexer": "ipython3",
   "version": "3.11.3"
  }
 },
 "nbformat": 4,
 "nbformat_minor": 5
}
